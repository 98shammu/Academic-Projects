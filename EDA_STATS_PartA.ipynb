{
 "cells": [
  {
   "cell_type": "markdown",
   "id": "20748596",
   "metadata": {},
   "source": [
    " The following are the ages of 30 customers who ordered an EV scooter from Zen Automotives.ee."
   ]
  },
  {
   "cell_type": "markdown",
   "id": "d93cc03b",
   "metadata": {},
   "source": [
    "     Ages : 42 44 62 35 20 30 56 20 23 41 55 22 31 27 66 21 18 24 42 25 32 50 31 26 36 39 40 18 36 22"
   ]
  },
  {
   "cell_type": "code",
   "execution_count": 1,
   "id": "e66df7f3",
   "metadata": {},
   "outputs": [],
   "source": [
    "import numpy as np\n",
    "import pandas as pd\n",
    "import seaborn as sns\n",
    "import matplotlib.pyplot as plt\n",
    "import scipy.stats as stats\n",
    "\n",
    "import warnings\n",
    "warnings.filterwarnings(\"ignore\")"
   ]
  },
  {
   "cell_type": "markdown",
   "id": "fc1c16b4",
   "metadata": {},
   "source": [
    "Q1. Compute the mean, median and the mode of the data."
   ]
  },
  {
   "cell_type": "code",
   "execution_count": 2,
   "id": "a4d0d017",
   "metadata": {},
   "outputs": [],
   "source": [
    "dict1 = {\"Ages\" : [42, 44, 62, 35, 20, 30, 56, 20, 23, 41, 55, 22, 31, 27, 66, 21, 18, 24, 42, 25, 32, 50, 31, 26, 36, 39, 40, 18, 36, 22]}"
   ]
  },
  {
   "cell_type": "code",
   "execution_count": 3,
   "id": "b87a3e3b",
   "metadata": {},
   "outputs": [
    {
     "data": {
      "text/html": [
       "<div>\n",
       "<style scoped>\n",
       "    .dataframe tbody tr th:only-of-type {\n",
       "        vertical-align: middle;\n",
       "    }\n",
       "\n",
       "    .dataframe tbody tr th {\n",
       "        vertical-align: top;\n",
       "    }\n",
       "\n",
       "    .dataframe thead th {\n",
       "        text-align: right;\n",
       "    }\n",
       "</style>\n",
       "<table border=\"1\" class=\"dataframe\">\n",
       "  <thead>\n",
       "    <tr style=\"text-align: right;\">\n",
       "      <th></th>\n",
       "      <th>Ages</th>\n",
       "    </tr>\n",
       "  </thead>\n",
       "  <tbody>\n",
       "    <tr>\n",
       "      <th>0</th>\n",
       "      <td>42</td>\n",
       "    </tr>\n",
       "    <tr>\n",
       "      <th>1</th>\n",
       "      <td>44</td>\n",
       "    </tr>\n",
       "    <tr>\n",
       "      <th>2</th>\n",
       "      <td>62</td>\n",
       "    </tr>\n",
       "    <tr>\n",
       "      <th>3</th>\n",
       "      <td>35</td>\n",
       "    </tr>\n",
       "    <tr>\n",
       "      <th>4</th>\n",
       "      <td>20</td>\n",
       "    </tr>\n",
       "  </tbody>\n",
       "</table>\n",
       "</div>"
      ],
      "text/plain": [
       "   Ages\n",
       "0    42\n",
       "1    44\n",
       "2    62\n",
       "3    35\n",
       "4    20"
      ]
     },
     "execution_count": 3,
     "metadata": {},
     "output_type": "execute_result"
    }
   ],
   "source": [
    "df_ages = pd.DataFrame(dict1)\n",
    "df_ages.head()"
   ]
  },
  {
   "cell_type": "code",
   "execution_count": 4,
   "id": "193b39bd",
   "metadata": {},
   "outputs": [],
   "source": [
    "mean = df_ages[\"Ages\"].mean()\n",
    "median = df_ages[\"Ages\"].median()\n",
    "mode = df_ages[\"Ages\"].mode()"
   ]
  },
  {
   "cell_type": "code",
   "execution_count": 5,
   "id": "1d516246",
   "metadata": {},
   "outputs": [
    {
     "name": "stdout",
     "output_type": "stream",
     "text": [
      "Mean of the data is : 34.46666666666667\n",
      "Median of the data is : 31.5\n",
      "Mode of the data is : 0    18\n",
      "1    20\n",
      "2    22\n",
      "3    31\n",
      "4    36\n",
      "5    42\n",
      "Name: Ages, dtype: int64\n"
     ]
    }
   ],
   "source": [
    "print(\"Mean of the data is :\", mean)\n",
    "print(\"Median of the data is :\", median)\n",
    "print(\"Mode of the data is :\", mode)"
   ]
  },
  {
   "cell_type": "markdown",
   "id": "0d46b8b7",
   "metadata": {},
   "source": [
    " "
   ]
  },
  {
   "cell_type": "markdown",
   "id": "9ddd7f37",
   "metadata": {},
   "source": [
    "Q2. Compute the range , variance and standard deviation of customer ages?"
   ]
  },
  {
   "cell_type": "code",
   "execution_count": 6,
   "id": "6af6e1bd",
   "metadata": {},
   "outputs": [
    {
     "name": "stdout",
     "output_type": "stream",
     "text": [
      "Range of the ages is from 18 to 66\n"
     ]
    }
   ],
   "source": [
    "print(\"Range of the ages is from\",df_ages[\"Ages\"].min(), \"to\", df_ages[\"Ages\"].max())"
   ]
  },
  {
   "cell_type": "code",
   "execution_count": 7,
   "id": "8f5ad776",
   "metadata": {},
   "outputs": [],
   "source": [
    "variance = df_ages[\"Ages\"].var()\n",
    "std_deviation = df_ages[\"Ages\"].std()"
   ]
  },
  {
   "cell_type": "code",
   "execution_count": 8,
   "id": "7b88b326",
   "metadata": {},
   "outputs": [
    {
     "name": "stdout",
     "output_type": "stream",
     "text": [
      "The variance of the data is 177.36091954022984\n"
     ]
    }
   ],
   "source": [
    "print(\"The variance of the data is\", variance)"
   ]
  },
  {
   "cell_type": "code",
   "execution_count": 9,
   "id": "95958843",
   "metadata": {},
   "outputs": [
    {
     "name": "stdout",
     "output_type": "stream",
     "text": [
      "The standard deviation of the data is 13.317691974971858\n"
     ]
    }
   ],
   "source": [
    "print(\"The standard deviation of the data is\", std_deviation)"
   ]
  },
  {
   "cell_type": "markdown",
   "id": "a5b51131",
   "metadata": {},
   "source": [
    " "
   ]
  },
  {
   "cell_type": "markdown",
   "id": "648d1382",
   "metadata": {},
   "source": [
    " Q3. Find the mean deviation for the data . The mean deviation is defined as below."
   ]
  },
  {
   "cell_type": "code",
   "execution_count": 10,
   "id": "1f12d669",
   "metadata": {},
   "outputs": [
    {
     "data": {
      "text/html": [
       "<div>\n",
       "<style scoped>\n",
       "    .dataframe tbody tr th:only-of-type {\n",
       "        vertical-align: middle;\n",
       "    }\n",
       "\n",
       "    .dataframe tbody tr th {\n",
       "        vertical-align: top;\n",
       "    }\n",
       "\n",
       "    .dataframe thead th {\n",
       "        text-align: right;\n",
       "    }\n",
       "</style>\n",
       "<table border=\"1\" class=\"dataframe\">\n",
       "  <thead>\n",
       "    <tr style=\"text-align: right;\">\n",
       "      <th></th>\n",
       "      <th>Ages</th>\n",
       "    </tr>\n",
       "  </thead>\n",
       "  <tbody>\n",
       "    <tr>\n",
       "      <th>0</th>\n",
       "      <td>42</td>\n",
       "    </tr>\n",
       "    <tr>\n",
       "      <th>1</th>\n",
       "      <td>44</td>\n",
       "    </tr>\n",
       "    <tr>\n",
       "      <th>2</th>\n",
       "      <td>62</td>\n",
       "    </tr>\n",
       "    <tr>\n",
       "      <th>3</th>\n",
       "      <td>35</td>\n",
       "    </tr>\n",
       "    <tr>\n",
       "      <th>4</th>\n",
       "      <td>20</td>\n",
       "    </tr>\n",
       "  </tbody>\n",
       "</table>\n",
       "</div>"
      ],
      "text/plain": [
       "   Ages\n",
       "0    42\n",
       "1    44\n",
       "2    62\n",
       "3    35\n",
       "4    20"
      ]
     },
     "execution_count": 10,
     "metadata": {},
     "output_type": "execute_result"
    }
   ],
   "source": [
    "df_ages.head()"
   ]
  },
  {
   "cell_type": "code",
   "execution_count": 11,
   "id": "c8ad3d8c",
   "metadata": {},
   "outputs": [
    {
     "data": {
      "text/plain": [
       "34.46666666666667"
      ]
     },
     "execution_count": 11,
     "metadata": {},
     "output_type": "execute_result"
    }
   ],
   "source": [
    "xbar = df_ages[\"Ages\"].mean()\n",
    "xbar"
   ]
  },
  {
   "cell_type": "code",
   "execution_count": 12,
   "id": "1b6efbb6",
   "metadata": {},
   "outputs": [
    {
     "data": {
      "text/plain": [
       "322.9333333333333"
      ]
     },
     "execution_count": 12,
     "metadata": {},
     "output_type": "execute_result"
    }
   ],
   "source": [
    "sum(abs(df_ages[\"Ages\"] - xbar))"
   ]
  },
  {
   "cell_type": "code",
   "execution_count": 13,
   "id": "97f44be1",
   "metadata": {},
   "outputs": [
    {
     "data": {
      "text/plain": [
       "10.764444444444443"
      ]
     },
     "execution_count": 13,
     "metadata": {},
     "output_type": "execute_result"
    }
   ],
   "source": [
    "mean_deviation = sum(abs(df_ages[\"Ages\"] - xbar))/len(df_ages[\"Ages\"])\n",
    "mean_deviation"
   ]
  },
  {
   "cell_type": "code",
   "execution_count": 14,
   "id": "45f2693b",
   "metadata": {},
   "outputs": [
    {
     "name": "stdout",
     "output_type": "stream",
     "text": [
      "The mean deviation of the data is : 10.764444444444443\n"
     ]
    }
   ],
   "source": [
    "print(\"The mean deviation of the data is :\", mean_deviation)"
   ]
  },
  {
   "cell_type": "markdown",
   "id": "5f27ffc6",
   "metadata": {},
   "source": [
    " "
   ]
  },
  {
   "cell_type": "markdown",
   "id": "80d1394b",
   "metadata": {},
   "source": [
    "Q4. Calculate the Pearson coefficient of skewness and comment on the skewness of the data."
   ]
  },
  {
   "cell_type": "code",
   "execution_count": 15,
   "id": "6f90ca71",
   "metadata": {},
   "outputs": [
    {
     "data": {
      "text/plain": [
       "34.46666666666667"
      ]
     },
     "execution_count": 15,
     "metadata": {},
     "output_type": "execute_result"
    }
   ],
   "source": [
    "xbar"
   ]
  },
  {
   "cell_type": "code",
   "execution_count": 16,
   "id": "df07b11c",
   "metadata": {},
   "outputs": [
    {
     "data": {
      "text/plain": [
       "31.5"
      ]
     },
     "execution_count": 16,
     "metadata": {},
     "output_type": "execute_result"
    }
   ],
   "source": [
    "median"
   ]
  },
  {
   "cell_type": "code",
   "execution_count": 17,
   "id": "425c26f6",
   "metadata": {},
   "outputs": [
    {
     "data": {
      "text/plain": [
       "13.317691974971858"
      ]
     },
     "execution_count": 17,
     "metadata": {},
     "output_type": "execute_result"
    }
   ],
   "source": [
    "std_deviation"
   ]
  },
  {
   "cell_type": "code",
   "execution_count": 18,
   "id": "8b039b20",
   "metadata": {},
   "outputs": [],
   "source": [
    "pearson_coe = (3 * (xbar - median))/std_deviation"
   ]
  },
  {
   "cell_type": "code",
   "execution_count": 19,
   "id": "7ce38339",
   "metadata": {},
   "outputs": [
    {
     "name": "stdout",
     "output_type": "stream",
     "text": [
      "Pearson coefficient of skewness of the above data is : 0.668283965173989\n"
     ]
    }
   ],
   "source": [
    "print(\"Pearson coefficient of skewness of the above data is :\", pearson_coe)"
   ]
  },
  {
   "cell_type": "markdown",
   "id": "63ffdd32",
   "metadata": {},
   "source": [
    "Since the coefficient is positive, we can say that data is positively skewed."
   ]
  },
  {
   "cell_type": "markdown",
   "id": "a48b7247",
   "metadata": {},
   "source": [
    " "
   ]
  },
  {
   "cell_type": "markdown",
   "id": "3772b138",
   "metadata": {},
   "source": [
    "Q5. Count the number of data values that fall within two standard deviations of the mean. Compare this with the answer from Chebyshev’s Theorem."
   ]
  },
  {
   "cell_type": "code",
   "execution_count": 20,
   "id": "b0a84bdf",
   "metadata": {},
   "outputs": [],
   "source": [
    "ll_2std = mean - 2 * std_deviation\n",
    "ul_2std = mean + 2 * std_deviation"
   ]
  },
  {
   "cell_type": "code",
   "execution_count": 21,
   "id": "20e898d9",
   "metadata": {},
   "outputs": [
    {
     "name": "stdout",
     "output_type": "stream",
     "text": [
      "7.831282716722953 61.102050616610384\n"
     ]
    }
   ],
   "source": [
    "print(ll_2std, ul_2std)"
   ]
  },
  {
   "cell_type": "code",
   "execution_count": 22,
   "id": "5fffedd8",
   "metadata": {},
   "outputs": [
    {
     "data": {
      "text/plain": [
       "28"
      ]
     },
     "execution_count": 22,
     "metadata": {},
     "output_type": "execute_result"
    }
   ],
   "source": [
    "df_ages[~((df_ages[\"Ages\"] < ll_2std) | (df_ages[\"Ages\"] > ul_2std))].shape[0]"
   ]
  },
  {
   "cell_type": "markdown",
   "id": "6d26aef9",
   "metadata": {},
   "source": [
    "Chebyshev's Theorem is stated as follows:\n",
    "\n",
    "\"For any continuous or discrete dataset, regardless of its shape, at least (1 - 1/k^2) of the data falls within k standard deviations from the mean, where k is any positive constant greater than 1.\"\n",
    "\n",
    "In other words, for any value of k greater than 1, at least (1 - 1/k^2) of the data must fall within k standard deviations from the mean. This theorem provides a worst-case scenario estimate of the proportion of data within a given range."
   ]
  },
  {
   "cell_type": "code",
   "execution_count": 23,
   "id": "548d5a92",
   "metadata": {},
   "outputs": [
    {
     "data": {
      "text/plain": [
       "75.0"
      ]
     },
     "execution_count": 23,
     "metadata": {},
     "output_type": "execute_result"
    }
   ],
   "source": [
    "k = 2\n",
    "Chebyshev_Theorem = (1 - (1/k**2))*100\n",
    "Chebyshev_Theorem"
   ]
  },
  {
   "cell_type": "code",
   "execution_count": 24,
   "id": "e376f273",
   "metadata": {},
   "outputs": [
    {
     "data": {
      "text/plain": [
       "28"
      ]
     },
     "execution_count": 24,
     "metadata": {},
     "output_type": "execute_result"
    }
   ],
   "source": [
    "ages_no = df_ages[~((df_ages[\"Ages\"] < ll_2std) | (df_ages[\"Ages\"] > ul_2std))].shape[0]\n",
    "ages_no"
   ]
  },
  {
   "cell_type": "code",
   "execution_count": 25,
   "id": "37de1657",
   "metadata": {},
   "outputs": [
    {
     "data": {
      "text/plain": [
       "30"
      ]
     },
     "execution_count": 25,
     "metadata": {},
     "output_type": "execute_result"
    }
   ],
   "source": [
    "total = df_ages[\"Ages\"].shape[0]\n",
    "total"
   ]
  },
  {
   "cell_type": "code",
   "execution_count": 26,
   "id": "d57c1640",
   "metadata": {},
   "outputs": [
    {
     "data": {
      "text/plain": [
       "93.33333333333333"
      ]
     },
     "execution_count": 26,
     "metadata": {},
     "output_type": "execute_result"
    }
   ],
   "source": [
    "percent_values = (ages_no/total) * 100\n",
    "percent_values"
   ]
  },
  {
   "cell_type": "markdown",
   "id": "6a9f6ae9",
   "metadata": {},
   "source": [
    "The percentage of values is 93% and is greater than 75% and hence it follows Chebyshev_Theorem."
   ]
  },
  {
   "cell_type": "markdown",
   "id": "fc4e58b2",
   "metadata": {},
   "source": [
    " "
   ]
  },
  {
   "cell_type": "markdown",
   "id": "4f29f60d",
   "metadata": {},
   "source": [
    "Q6. Find the three quartiles and the interquartile range (IQR)."
   ]
  },
  {
   "cell_type": "code",
   "execution_count": 27,
   "id": "c7a38069",
   "metadata": {},
   "outputs": [],
   "source": [
    "q1 = df_ages[\"Ages\"].quantile(0.25)\n",
    "q2 = df_ages[\"Ages\"].quantile(0.5)\n",
    "q3 = df_ages[\"Ages\"].quantile(0.75)"
   ]
  },
  {
   "cell_type": "code",
   "execution_count": 28,
   "id": "d975fc0c",
   "metadata": {},
   "outputs": [
    {
     "name": "stdout",
     "output_type": "stream",
     "text": [
      "Q1 : 23.25\n",
      "Q2 : 31.5\n",
      "Q3 : 41.75\n"
     ]
    }
   ],
   "source": [
    "print(\"Q1 :\", q1)\n",
    "print(\"Q2 :\", q2)\n",
    "print(\"Q3 :\", q3)"
   ]
  },
  {
   "cell_type": "code",
   "execution_count": 29,
   "id": "aa55fb17",
   "metadata": {},
   "outputs": [],
   "source": [
    "iqr = q3 - q1"
   ]
  },
  {
   "cell_type": "code",
   "execution_count": 30,
   "id": "4ce53149",
   "metadata": {},
   "outputs": [
    {
     "name": "stdout",
     "output_type": "stream",
     "text": [
      "Inter Quartile range is : 18.5\n"
     ]
    }
   ],
   "source": [
    "print(\"Inter Quartile range is :\", iqr)"
   ]
  },
  {
   "cell_type": "markdown",
   "id": "5609ee6f",
   "metadata": {},
   "source": [
    " "
   ]
  },
  {
   "cell_type": "markdown",
   "id": "b4ea7fac",
   "metadata": {},
   "source": [
    "Q7. Are there any outliers in the data set ?"
   ]
  },
  {
   "cell_type": "code",
   "execution_count": 31,
   "id": "deca4043",
   "metadata": {},
   "outputs": [
    {
     "data": {
      "text/plain": [
       "0.7957157870367397"
      ]
     },
     "execution_count": 31,
     "metadata": {},
     "output_type": "execute_result"
    }
   ],
   "source": [
    "df_ages[\"Ages\"].skew()"
   ]
  },
  {
   "cell_type": "code",
   "execution_count": 32,
   "id": "98534fa7",
   "metadata": {},
   "outputs": [],
   "source": [
    "ll = q1 - 1.5 * iqr\n",
    "ul = q3 + 1.5 * iqr"
   ]
  },
  {
   "cell_type": "code",
   "execution_count": 33,
   "id": "bb327dff",
   "metadata": {},
   "outputs": [
    {
     "name": "stdout",
     "output_type": "stream",
     "text": [
      "-4.5 69.5\n"
     ]
    }
   ],
   "source": [
    "print(ll, ul)"
   ]
  },
  {
   "cell_type": "code",
   "execution_count": 34,
   "id": "f4969adc",
   "metadata": {},
   "outputs": [
    {
     "data": {
      "text/plain": [
       "0"
      ]
     },
     "execution_count": 34,
     "metadata": {},
     "output_type": "execute_result"
    }
   ],
   "source": [
    "df_ages[(df_ages[\"Ages\"] < ll) | (df_ages[\"Ages\"] > ul)].shape[0]"
   ]
  },
  {
   "cell_type": "markdown",
   "id": "4cfca68b",
   "metadata": {},
   "source": [
    "There are no outliers in the dataset."
   ]
  },
  {
   "cell_type": "markdown",
   "id": "75421880",
   "metadata": {},
   "source": [
    " "
   ]
  },
  {
   "cell_type": "markdown",
   "id": "73eebf8d",
   "metadata": {},
   "source": [
    "Q8. Draw a boxplot of the dataset to confirm about outlier information."
   ]
  },
  {
   "cell_type": "code",
   "execution_count": 35,
   "id": "dcabe058",
   "metadata": {},
   "outputs": [
    {
     "data": {
      "image/png": "[encoded data removed]",
      "text/plain": [
       "<Figure size 640x480 with 1 Axes>"
      ]
     },
     "metadata": {},
     "output_type": "display_data"
    }
   ],
   "source": [
    "sns.boxplot(df_ages[\"Ages\"])\n",
    "plt.show()"
   ]
  },
  {
   "cell_type": "markdown",
   "id": "b212a10b",
   "metadata": {},
   "source": [
    "From the box plot also, we can infer that there are no otliers."
   ]
  },
  {
   "cell_type": "markdown",
   "id": "e3a34c43",
   "metadata": {},
   "source": [
    " "
   ]
  },
  {
   "cell_type": "markdown",
   "id": "16c6b6e4",
   "metadata": {},
   "source": [
    "Q9. Find the percentile rank of the datapoint 50."
   ]
  },
  {
   "cell_type": "code",
   "execution_count": 36,
   "id": "c38dee03",
   "metadata": {},
   "outputs": [],
   "source": [
    "sort_ages = pd.DataFrame(df_ages[df_ages[\"Ages\"] <= 50])\n",
    "percentile_rank = (sort_ages.shape[0]/df_ages.shape[0]) * 100"
   ]
  },
  {
   "cell_type": "code",
   "execution_count": 37,
   "id": "3ddf6029",
   "metadata": {},
   "outputs": [
    {
     "name": "stdout",
     "output_type": "stream",
     "text": [
      "The percentile rank of data point 50 is : 86.66666666666667\n"
     ]
    }
   ],
   "source": [
    "print(\"The percentile rank of data point 50 is :\", percentile_rank)"
   ]
  },
  {
   "cell_type": "markdown",
   "id": "d00c50c3",
   "metadata": {},
   "source": [
    " "
   ]
  },
  {
   "cell_type": "markdown",
   "id": "13ab1fe6",
   "metadata": {},
   "source": [
    "Q10. What is the probability that a person ordering an EV scooter is above 50 years old?"
   ]
  },
  {
   "cell_type": "code",
   "execution_count": 38,
   "id": "4cd3d0e8",
   "metadata": {},
   "outputs": [
    {
     "name": "stdout",
     "output_type": "stream",
     "text": [
      "The probability that a person ordering an EV scooter is above 50 years old is : 13.333333333333329\n"
     ]
    }
   ],
   "source": [
    "print(\"The probability that a person ordering an EV scooter is above 50 years old is :\", 100 - percentile_rank)"
   ]
  },
  {
   "cell_type": "markdown",
   "id": "666a23c9",
   "metadata": {},
   "source": [
    " "
   ]
  },
  {
   "cell_type": "markdown",
   "id": "d99b4778",
   "metadata": {},
   "source": [
    "Q11. Create a frequency distribution for the data and visualize it appropriately"
   ]
  },
  {
   "cell_type": "code",
   "execution_count": 39,
   "id": "cc2ae220",
   "metadata": {},
   "outputs": [
    {
     "data": {
      "image/png": "[encoded data removed]",
      "text/plain": [
       "<Figure size 640x480 with 1 Axes>"
      ]
     },
     "metadata": {},
     "output_type": "display_data"
    }
   ],
   "source": [
    "plt.hist(df_ages, edgecolor = \"black\", rwidth = 10)\n",
    "plt.xlabel(\"Range of Ages\")\n",
    "plt.ylabel(\"Count\")\n",
    "plt.title(\"Age Frequency Distribution\")\n",
    "plt.show()"
   ]
  },
  {
   "cell_type": "markdown",
   "id": "f27e200d",
   "metadata": {},
   "source": [
    "From the graph we can infer that the young people(18 - 25) prefer EV vehicles than the old people."
   ]
  },
  {
   "cell_type": "markdown",
   "id": "c50de67f",
   "metadata": {},
   "source": [
    " "
   ]
  },
  {
   "cell_type": "markdown",
   "id": "84a593d8",
   "metadata": {},
   "source": [
    "Q12. Create a probability distribution of the data and visualize it appropriately."
   ]
  },
  {
   "cell_type": "code",
   "execution_count": 40,
   "id": "d4af82f1",
   "metadata": {},
   "outputs": [
    {
     "data": {
      "image/png": "[encoded data removed]",
      "text/plain": [
       "<Figure size 640x480 with 1 Axes>"
      ]
     },
     "metadata": {},
     "output_type": "display_data"
    }
   ],
   "source": [
    "sns.distplot(df_ages)\n",
    "plt.show()"
   ]
  },
  {
   "cell_type": "markdown",
   "id": "d729e727",
   "metadata": {},
   "source": [
    " "
   ]
  },
  {
   "cell_type": "markdown",
   "id": "d5f878b5",
   "metadata": {},
   "source": [
    "Q13. What is the shape of the distribution of this dataset? Create an appropriate graph to determine that. Take 100 random samples with replacement from this dataset of size 5 each. Create a sampling distribution of the mean age of customers. Compare with other sampling distributions of sample size 10, 15, 20, 25, 30. State your observations. Does it corroborate the Central Limit Theorem?"
   ]
  },
  {
   "cell_type": "code",
   "execution_count": 41,
   "id": "216e43f2",
   "metadata": {},
   "outputs": [
    {
     "data": {
      "image/png": "[encoded data removed]",
      "text/plain": [
       "<Figure size 640x480 with 1 Axes>"
      ]
     },
     "metadata": {},
     "output_type": "display_data"
    }
   ],
   "source": [
    "sns.distplot(df_ages[\"Ages\"])\n",
    "plt.show()"
   ]
  },
  {
   "cell_type": "markdown",
   "id": "e30cf86e",
   "metadata": {},
   "source": [
    "From the distplot we can infer that the distribution is positively skewed."
   ]
  },
  {
   "cell_type": "markdown",
   "id": "1a522a68",
   "metadata": {},
   "source": [
    " "
   ]
  },
  {
   "cell_type": "code",
   "execution_count": 42,
   "id": "500c7591",
   "metadata": {},
   "outputs": [
    {
     "name": "stdout",
     "output_type": "stream",
     "text": [
      "Sample mean 34.738\n",
      "Population mean 34.46666666666667\n"
     ]
    },
    {
     "data": {
      "image/png": "[encoded data removed]",
      "text/plain": [
       "<Figure size 640x480 with 1 Axes>"
      ]
     },
     "metadata": {},
     "output_type": "display_data"
    }
   ],
   "source": [
    "import random\n",
    "no_of_samples=100\n",
    "sampling_mean=[]\n",
    "for i in range(no_of_samples):\n",
    "    sample=random.choices(population=df_ages[\"Ages\"],k = 5)\n",
    "    sampling_mean.append(np.mean(sample))\n",
    "print(\"Sample mean\",np.mean(sampling_mean))\n",
    "print(\"Population mean\",np.mean(df_ages[\"Ages\"]))\n",
    "sns.distplot(sampling_mean)\n",
    "plt.show()"
   ]
  },
  {
   "cell_type": "markdown",
   "id": "e425272b",
   "metadata": {},
   "source": [
    " "
   ]
  },
  {
   "cell_type": "code",
   "execution_count": 43,
   "id": "74605ba9",
   "metadata": {},
   "outputs": [
    {
     "name": "stdout",
     "output_type": "stream",
     "text": [
      "Sample mean 34.79200000000001\n",
      "Population mean 34.46666666666667\n"
     ]
    },
    {
     "data": {
      "image/png": "[encoded data removed]",
      "text/plain": [
       "<Figure size 640x480 with 1 Axes>"
      ]
     },
     "metadata": {},
     "output_type": "display_data"
    }
   ],
   "source": [
    "import random\n",
    "no_of_samples=100\n",
    "sampling_mean=[]\n",
    "for i in range(no_of_samples):\n",
    "    sample=random.choices(population=df_ages[\"Ages\"],k = 10)\n",
    "    sampling_mean.append(np.mean(sample))\n",
    "print(\"Sample mean\",np.mean(sampling_mean))\n",
    "print(\"Population mean\",np.mean(df_ages[\"Ages\"]))\n",
    "sns.distplot(sampling_mean)\n",
    "plt.show()"
   ]
  },
  {
   "cell_type": "markdown",
   "id": "53d03a02",
   "metadata": {},
   "source": [
    " "
   ]
  },
  {
   "cell_type": "code",
   "execution_count": 44,
   "id": "99d6bd00",
   "metadata": {},
   "outputs": [
    {
     "name": "stdout",
     "output_type": "stream",
     "text": [
      "Sample mean 34.784\n",
      "Population mean 34.46666666666667\n"
     ]
    },
    {
     "data": {
      "image/png": "[encoded data removed]",
      "text/plain": [
       "<Figure size 640x480 with 1 Axes>"
      ]
     },
     "metadata": {},
     "output_type": "display_data"
    }
   ],
   "source": [
    "import random\n",
    "no_of_samples=100\n",
    "sampling_mean=[]\n",
    "for i in range(no_of_samples):\n",
    "    sample=random.choices(population=df_ages[\"Ages\"],k = 25)\n",
    "    sampling_mean.append(np.mean(sample))\n",
    "print(\"Sample mean\",np.mean(sampling_mean))\n",
    "print(\"Population mean\",np.mean(df_ages[\"Ages\"]))\n",
    "sns.distplot(sampling_mean)\n",
    "plt.show()"
   ]
  },
  {
   "cell_type": "markdown",
   "id": "ad118309",
   "metadata": {},
   "source": [
    "From above graps we can infer that no matter the size of sample, the distribution is always normal and sampling_mean is very near to actual population mean. Hence the central limit therom will always holds true in this case."
   ]
  },
  {
   "cell_type": "markdown",
   "id": "d430e979",
   "metadata": {},
   "source": [
    " "
   ]
  },
  {
   "cell_type": "markdown",
   "id": "4f96b6c8",
   "metadata": {},
   "source": [
    "Q14. Treat this dataset as a binomial distribution where p is the probability that a person ordering an EV is above 50 years age. What is the probability that out of a random sample of 10 buyers exactly 6 are above 50 years of age?"
   ]
  },
  {
   "cell_type": "code",
   "execution_count": 45,
   "id": "bf89b5bf",
   "metadata": {},
   "outputs": [],
   "source": [
    "r = 6\n",
    "n = 10\n",
    "p = (len(df_ages[\"Ages\"]) - len(sort_ages[\"Ages\"]))/len(df_ages[\"Ages\"])"
   ]
  },
  {
   "cell_type": "code",
   "execution_count": 46,
   "id": "735129d0",
   "metadata": {},
   "outputs": [
    {
     "data": {
      "text/plain": [
       "0.0006656716898846715"
      ]
     },
     "execution_count": 46,
     "metadata": {},
     "output_type": "execute_result"
    }
   ],
   "source": [
    "stats.binom.pmf(r, n, p)"
   ]
  },
  {
   "cell_type": "markdown",
   "id": "11fbe1ec",
   "metadata": {},
   "source": [
    "The probability that out of a random sample of 10 buyers exactly 6 are above 50 years of age is near to 0%."
   ]
  },
  {
   "cell_type": "markdown",
   "id": "f25353c6",
   "metadata": {},
   "source": [
    " "
   ]
  },
  {
   "cell_type": "markdown",
   "id": "c2205efd",
   "metadata": {},
   "source": [
    "Q15. A study claims that 10% of all customers for an EV scooter are above 50 years of age. Using the Normal approximation of a Binomial distribution, find the probability that in a random sample of 300 prospective customers exactly 25 will be above 50 years of age."
   ]
  },
  {
   "cell_type": "code",
   "execution_count": 47,
   "id": "b6ee70bb",
   "metadata": {},
   "outputs": [],
   "source": [
    "r = 25\n",
    "n = 300\n",
    "p = 0.1"
   ]
  },
  {
   "cell_type": "code",
   "execution_count": 48,
   "id": "4a58f650",
   "metadata": {},
   "outputs": [
    {
     "data": {
      "text/plain": [
       "0.0509860415314796"
      ]
     },
     "execution_count": 48,
     "metadata": {},
     "output_type": "execute_result"
    }
   ],
   "source": [
    "stats.binom.pmf(r, n, p)"
   ]
  },
  {
   "cell_type": "markdown",
   "id": "2a3a76bd",
   "metadata": {},
   "source": [
    "The probability that out of a random sample of 300 buyers exactly 25 are above 50 years of age is 5%."
   ]
  },
  {
   "cell_type": "markdown",
   "id": "c4e1e7f3",
   "metadata": {},
   "source": [
    " "
   ]
  },
  {
   "cell_type": "markdown",
   "id": "652a7c45",
   "metadata": {},
   "source": [
    "Q16. Compute a 95% Confidence Interval for the true mean age of the population of EV scooter buyers for the dataset using appropriate distribution.(State reasons as to why did you use a z or t distribution)."
   ]
  },
  {
   "cell_type": "markdown",
   "id": "1e8831ff",
   "metadata": {},
   "source": [
    "Population standard deviation is not given and hence we are using t test."
   ]
  },
  {
   "cell_type": "code",
   "execution_count": 49,
   "id": "35e3f5f7",
   "metadata": {},
   "outputs": [
    {
     "name": "stdout",
     "output_type": "stream",
     "text": [
      "29.493758755758076 39.43957457757526\n"
     ]
    }
   ],
   "source": [
    "xbar = df_ages[\"Ages\"].mean()\n",
    "n = len(df_ages[\"Ages\"])\n",
    "samplesd = df_ages[\"Ages\"].std()\n",
    "alpha = 0.05\n",
    "t_alpha_2 = stats.t.isf(alpha/2, df = n-1)\n",
    "ll = xbar - (t_alpha_2 * (samplesd/np.sqrt(n)))\n",
    "ul = xbar + (t_alpha_2 * (samplesd/np.sqrt(n)))\n",
    "print(ll, ul)"
   ]
  },
  {
   "cell_type": "markdown",
   "id": "327586dc",
   "metadata": {},
   "source": [
    "The lower limit is 29.493758755758076 and upper limit is 39.43957457757526."
   ]
  },
  {
   "cell_type": "markdown",
   "id": "53d0861b",
   "metadata": {},
   "source": [
    " "
   ]
  },
  {
   "cell_type": "markdown",
   "id": "3f8fb6c7",
   "metadata": {},
   "source": [
    "Q17. A data scientist wants to estimate with 95% confidence the proportion of people who own an EV in the population. A recent study showed that 20% of people interviewed had an EV. The data scientist wants to be accurate within 2% of the true proportion. Find the minimum sample size necessary."
   ]
  },
  {
   "cell_type": "code",
   "execution_count": 50,
   "id": "1cd028df",
   "metadata": {},
   "outputs": [],
   "source": [
    "alpha = 0.05\n",
    "z = stats.norm.isf(alpha/2)\n",
    "p0 = 0.20\n",
    "margin_of_error = 0.02\n",
    "n = ((z*(np.sqrt(p0 * (1-p0))))/margin_of_error)**2"
   ]
  },
  {
   "cell_type": "code",
   "execution_count": 51,
   "id": "a3c5a315",
   "metadata": {},
   "outputs": [
    {
     "name": "stdout",
     "output_type": "stream",
     "text": [
      "Minimum sample size is : 1537\n"
     ]
    }
   ],
   "source": [
    "print(\"Minimum sample size is :\", round(n))"
   ]
  },
  {
   "cell_type": "markdown",
   "id": "fa35bd3a",
   "metadata": {},
   "source": [
    "Minimum sample size necessary to estimate the proportion of people who own an EV with a 95% confidence level and a margin of error of 2% is approximately 1537."
   ]
  },
  {
   "cell_type": "markdown",
   "id": "44a95f8f",
   "metadata": {},
   "source": [
    " "
   ]
  },
  {
   "cell_type": "markdown",
   "id": "097e3794",
   "metadata": {},
   "source": [
    "Q18. The same data scientist wants to estimate the proportion of executives who own an EV. She wants to be 90% confident and accurate within 5% of true proportion. Find the minimum sample size necessary."
   ]
  },
  {
   "cell_type": "code",
   "execution_count": 52,
   "id": "65c61315",
   "metadata": {},
   "outputs": [],
   "source": [
    "alpha = 0.1\n",
    "z = stats.norm.isf(alpha/2)\n",
    "p0 = 0.20\n",
    "margin_of_error = 0.05\n",
    "n = ((z*(np.sqrt(p0 * (1-p0))))/margin_of_error)**2"
   ]
  },
  {
   "cell_type": "code",
   "execution_count": 53,
   "id": "0cd2121d",
   "metadata": {},
   "outputs": [
    {
     "name": "stdout",
     "output_type": "stream",
     "text": [
      "Minimum sample size is : 173\n"
     ]
    }
   ],
   "source": [
    "print(\"Minimum sample size is :\", round(n))"
   ]
  },
  {
   "cell_type": "markdown",
   "id": "9fb5fdbe",
   "metadata": {},
   "source": [
    " "
   ]
  },
  {
   "cell_type": "markdown",
   "id": "8be8856c",
   "metadata": {},
   "source": [
    "Q19. A researcher claims that currently 20% of the population are owning EVs. Test his claim with an alpha =0.05 if out of a random sample of 30 two-wheeler owners only 5 own an EV."
   ]
  },
  {
   "cell_type": "markdown",
   "id": "36a2806c",
   "metadata": {},
   "source": [
    "Framing Hypothesis:\n",
    "\n",
    "    H0 : Population that are owning EV is currently 20%.\n",
    "    Ha : Population that are owning Ev is currently not 20%."
   ]
  },
  {
   "cell_type": "code",
   "execution_count": 54,
   "id": "cd496901",
   "metadata": {},
   "outputs": [],
   "source": [
    "p0 = 0.2\n",
    "alpha = 0.05\n",
    "n = 30\n",
    "phat = 5/30"
   ]
  },
  {
   "cell_type": "code",
   "execution_count": 55,
   "id": "e3269f21",
   "metadata": {},
   "outputs": [
    {
     "data": {
      "text/plain": [
       "-0.4564354645876386"
      ]
     },
     "execution_count": 55,
     "metadata": {},
     "output_type": "execute_result"
    }
   ],
   "source": [
    "tstat = (phat-p0)/((p0*(1-p0))/n)**0.5\n",
    "tstat"
   ]
  },
  {
   "cell_type": "code",
   "execution_count": 56,
   "id": "f46fb306",
   "metadata": {},
   "outputs": [
    {
     "data": {
      "text/plain": [
       "0.6514770800454333"
      ]
     },
     "execution_count": 56,
     "metadata": {},
     "output_type": "execute_result"
    }
   ],
   "source": [
    "pval = stats.t.sf(abs(tstat),df=n-1)*2\n",
    "pval"
   ]
  },
  {
   "cell_type": "code",
   "execution_count": 57,
   "id": "15559ce9",
   "metadata": {},
   "outputs": [
    {
     "data": {
      "text/plain": [
       "False"
      ]
     },
     "execution_count": 57,
     "metadata": {},
     "output_type": "execute_result"
    }
   ],
   "source": [
    "pval < alpha"
   ]
  },
  {
   "cell_type": "markdown",
   "id": "89251a67",
   "metadata": {},
   "source": [
    "Here since pvalue > alpha, we failed to reject the null hypothesis."
   ]
  },
  {
   "cell_type": "markdown",
   "id": "07c9ed94",
   "metadata": {},
   "source": [
    "Population that are owning EV is currently 20%."
   ]
  },
  {
   "cell_type": "markdown",
   "id": "eb3e5ccb",
   "metadata": {},
   "source": [
    " "
   ]
  },
  {
   "cell_type": "markdown",
   "id": "81bba3b1",
   "metadata": {},
   "source": [
    "Q20. Assume you are working for a Consumer Protection Agency that looks at complaints raised by customers for the transportation industry. Say you have been receiving complaints about the mileage of the latest EV launched by the Zen Automotives. Zen allows you to test randomly 40 of its new EVs to testmileage. Zen claims that the new EVs get a mileage of 96 kmpl on the highway. Your results show a mean of 91.3 kmpl and a standard deviation of\n",
    "14.4.\n",
    "\n",
    "\n",
    "a. Show why you support Zen’s claim using the P-value obtained.\n",
    "\n",
    "\n",
    "b. After more complaints you decide to test the variability of the mileage on the highway. On questioning Zen’s quality control engineer , you find that they are claiming a standard deviation of 7.2. Test the claim about\n",
    "the standard deviation. [Hint :use the Chi-square test for variance/standard deviation]\n",
    "\n",
    "\n",
    "c. Write a summary of results and the action that Zen must take to remedy the complaints.\n",
    "\n",
    "\n",
    "d. What is your position on performing the test for variability along with thetest for means?"
   ]
  },
  {
   "cell_type": "markdown",
   "id": "8fd5bc37",
   "metadata": {},
   "source": [
    " "
   ]
  },
  {
   "cell_type": "markdown",
   "id": "01e4a434",
   "metadata": {},
   "source": [
    "20a. Show why you support Zen’s claim using the P-value obtained."
   ]
  },
  {
   "cell_type": "markdown",
   "id": "594dae1d",
   "metadata": {},
   "source": [
    "Framing hypothisis:\n",
    "\n",
    "    H0: The new EVs got a mileage of equal to 96 kmpl on the highway(mu=96)\n",
    "\n",
    "    Ha : The new EVs got a mileage of not equal to 96 kmpl on the highway(mu<>96)"
   ]
  },
  {
   "cell_type": "code",
   "execution_count": 58,
   "id": "a2fe8fe0",
   "metadata": {},
   "outputs": [],
   "source": [
    "n = 40\n",
    "mu = 96\n",
    "xbar = 91.3\n",
    "samplesd = 14.4\n",
    "alpha = 0.05"
   ]
  },
  {
   "cell_type": "code",
   "execution_count": 59,
   "id": "d0aa02af",
   "metadata": {},
   "outputs": [
    {
     "data": {
      "text/plain": [
       "-2.0642645837210267"
      ]
     },
     "execution_count": 59,
     "metadata": {},
     "output_type": "execute_result"
    }
   ],
   "source": [
    "t_stats = (xbar - mu)/(samplesd/np.sqrt(n))\n",
    "t_stats"
   ]
  },
  {
   "cell_type": "code",
   "execution_count": 60,
   "id": "d1284592",
   "metadata": {},
   "outputs": [
    {
     "data": {
      "text/plain": [
       "0.04568930349115842"
      ]
     },
     "execution_count": 60,
     "metadata": {},
     "output_type": "execute_result"
    }
   ],
   "source": [
    "pval = stats.t.cdf(t_stats, df = n-1) * 2\n",
    "pval"
   ]
  },
  {
   "cell_type": "code",
   "execution_count": 61,
   "id": "e4beb063",
   "metadata": {},
   "outputs": [
    {
     "data": {
      "text/plain": [
       "True"
      ]
     },
     "execution_count": 61,
     "metadata": {},
     "output_type": "execute_result"
    }
   ],
   "source": [
    "pval < alpha"
   ]
  },
  {
   "cell_type": "markdown",
   "id": "1ba83c0a",
   "metadata": {},
   "source": [
    "Since the pvalue < alpha, we reject the null hypothesis."
   ]
  },
  {
   "cell_type": "markdown",
   "id": "8dd299bb",
   "metadata": {},
   "source": [
    "The new EVs got a mileage of not equal to 96 kmpl on the highway."
   ]
  },
  {
   "cell_type": "markdown",
   "id": "59208899",
   "metadata": {},
   "source": [
    " "
   ]
  },
  {
   "cell_type": "markdown",
   "id": "177a0f41",
   "metadata": {},
   "source": [
    "20b. After more complaints you decide to test the variability of the mileage on the highway. On questioning Zen’s quality control engineer , you find that they are claiming a standard deviation of 7.2. Test the claim about\n",
    "the standard deviation. [Hint :use the Chi-square test for variance/standard deviation]"
   ]
  },
  {
   "cell_type": "markdown",
   "id": "eff4af34",
   "metadata": {},
   "source": [
    "Framing hypothisis:\n",
    "\n",
    "    H0 : The population standard deviation on the highway is 7.2(sigma = 7.2)\n",
    "\n",
    "    Ha : The population standard deviation on the highway is 7.2(sigma != 7.2)"
   ]
  },
  {
   "cell_type": "code",
   "execution_count": 62,
   "id": "0487251c",
   "metadata": {},
   "outputs": [],
   "source": [
    "n = 40\n",
    "sigma = 7.2\n",
    "samplesd = 14.4\n",
    "alpha = 0.05"
   ]
  },
  {
   "cell_type": "code",
   "execution_count": 63,
   "id": "88bb8824",
   "metadata": {},
   "outputs": [
    {
     "data": {
      "text/plain": [
       "58.120059734686336"
      ]
     },
     "execution_count": 63,
     "metadata": {},
     "output_type": "execute_result"
    }
   ],
   "source": [
    "# critical_value\n",
    "chi_critical= stats.chi2.isf(alpha/2, df=n-1)\n",
    "chi_critical"
   ]
  },
  {
   "cell_type": "code",
   "execution_count": 64,
   "id": "0ff3a158",
   "metadata": {},
   "outputs": [
    {
     "data": {
      "text/plain": [
       "156.0"
      ]
     },
     "execution_count": 64,
     "metadata": {},
     "output_type": "execute_result"
    }
   ],
   "source": [
    "# chi-square statistic\n",
    "chi_square_stats=((n-1)*(samplesd**2))/sigma**2\n",
    "chi_square_stats"
   ]
  },
  {
   "cell_type": "code",
   "execution_count": 65,
   "id": "5cf6cb05",
   "metadata": {},
   "outputs": [
    {
     "data": {
      "text/plain": [
       "1.3322676295501878e-15"
      ]
     },
     "execution_count": 65,
     "metadata": {},
     "output_type": "execute_result"
    }
   ],
   "source": [
    "# p-value (right tailed test)\n",
    "pval = (1-stats.chi2.cdf(chi_square_stats, df=n-1))*2\n",
    "pval"
   ]
  },
  {
   "cell_type": "code",
   "execution_count": 66,
   "id": "95342dcc",
   "metadata": {},
   "outputs": [
    {
     "data": {
      "text/plain": [
       "True"
      ]
     },
     "execution_count": 66,
     "metadata": {},
     "output_type": "execute_result"
    }
   ],
   "source": [
    "chi_square_stats > chi_critical"
   ]
  },
  {
   "cell_type": "code",
   "execution_count": 67,
   "id": "3d35fb06",
   "metadata": {},
   "outputs": [
    {
     "data": {
      "text/plain": [
       "True"
      ]
     },
     "execution_count": 67,
     "metadata": {},
     "output_type": "execute_result"
    }
   ],
   "source": [
    "pval < alpha"
   ]
  },
  {
   "cell_type": "markdown",
   "id": "35593ee0",
   "metadata": {},
   "source": [
    "We reject H0 in this case. The population standard deviation on the highway is 7.2."
   ]
  },
  {
   "cell_type": "markdown",
   "id": "1e104381",
   "metadata": {},
   "source": [
    " "
   ]
  },
  {
   "cell_type": "markdown",
   "id": "e82a8afc",
   "metadata": {},
   "source": [
    "20c. Write a summary of results and the action that Zen must take to remedy the complaints."
   ]
  },
  {
   "cell_type": "markdown",
   "id": "b43d6b6d",
   "metadata": {},
   "source": [
    "* From the above tests it is clear that the Zen automotives claim of mileage failed so they have to imporve the mileages of vehicles by working on it or management of zen should verify it properly before they raising any claims. The standard deviation claim also failed so they have to be very sure before announcing these claims."
   ]
  },
  {
   "cell_type": "markdown",
   "id": "f2c32767",
   "metadata": {},
   "source": [
    " "
   ]
  },
  {
   "cell_type": "markdown",
   "id": "d0ed46d0",
   "metadata": {},
   "source": [
    "20d. What is your position on performing the test for variability along with thetest for means?"
   ]
  },
  {
   "cell_type": "markdown",
   "id": "5cbfcce8",
   "metadata": {},
   "source": [
    "* conducting mean test will give exact mileage value.\n",
    "* variabilty test is to check the spread of data in terms of mileage."
   ]
  },
  {
   "cell_type": "markdown",
   "id": "6383d639",
   "metadata": {},
   "source": [
    "Q21. Write a report comparing and contrasting Descriptive vs Inferential Statistics in about 200-500 words and how each helps to get more insight into the data at hand."
   ]
  },
  {
   "cell_type": "markdown",
   "id": "a28d4623",
   "metadata": {},
   "source": [
    "**Introduction:**\n",
    "\n",
    "Statistics plays a crucial role in extracting meaningful insights from data, aiding decision-making processes across various domains. Two fundamental branches of statistics, descriptive and inferential, serve distinct purposes in understanding and interpreting data. This report aims to compare and contrast descriptive and inferential statistics and elucidate how each contributes to gaining insights from the data at hand.\n",
    "\n",
    "**Descriptive Statistics:**\n",
    "\n",
    "Descriptive statistics involves the presentation and summarization of data in a meaningful manner. Measures such as mean, median, mode, range, and standard deviation fall under this category. The primary objective is to provide a concise summary that describes the essential features of a dataset. Descriptive statistics are valuable for simplifying complex data sets into manageable and interpretable forms, allowing researchers and analysts to identify patterns, trends, and central tendencies easily.\n",
    "\n",
    "For example, calculating the mean and standard deviation of a set of test scores helps educators understand the average performance and the degree of variability among students. Histograms and box plots are graphical representations used in descriptive statistics to visualize the distribution of data.\n",
    "\n",
    "**Inferential Statistics:**\n",
    "\n",
    "Inferential statistics, on the other hand, involves making inferences or predictions about a population based on a sample of data. This branch extends beyond the immediate dataset and delves into broader implications and generalizations. Techniques like hypothesis testing, regression analysis, and confidence intervals are common tools in inferential statistics.\n"
   ]
  },
  {
   "cell_type": "markdown",
   "id": "b5c74466",
   "metadata": {},
   "source": [
    "**How Each Provides Insight:**\n",
    "\n",
    "*Descriptive Statistics:*\n",
    "\n",
    "Provides a snapshot of the data, allowing for a quick understanding of central tendencies and variability.\n",
    "Facilitates the identification of patterns and trends within the dataset.\n",
    "Enhances data comprehension through visualizations like graphs and charts.\n",
    "\n",
    "*Inferential Statistics:*\n",
    "\n",
    "Enables predictions and generalizations about a larger population based on a representative sample.\n",
    "Tests hypotheses and evaluates the significance of observed effects.\n",
    "Helps in decision-making by providing a basis for making predictions or drawing conclusions beyond the immediate data.\n",
    "\n",
    "\n",
    "**Conclusion:**\n",
    "\n",
    "In conclusion, while descriptive statistics simplifies and organizes data to offer a snapshot of its characteristics, inferential statistics goes a step further, making predictions and drawing conclusions about a broader population. Together, these two branches provide a comprehensive toolkit for researchers and analysts to extract meaningful insights from data, guiding informed decision-making processes. The synergy between descriptive and inferential statistics is essential for a holistic understanding of the complexities within datasets."
   ]
  },
  {
   "cell_type": "code",
   "execution_count": null,
   "id": "f515f4f6",
   "metadata": {},
   "outputs": [],
   "source": []
  },
  {
   "cell_type": "code",
   "execution_count": null,
   "id": "15030feb",
   "metadata": {},
   "outputs": [],
   "source": []
  }
 ],
 "metadata": {
  "kernelspec": {
   "display_name": "Python 3 (ipykernel)",
   "language": "python",
   "name": "python3"
  },
  "language_info": {
   "codemirror_mode": {
    "name": "ipython",
    "version": 3
   },
   "file_extension": ".py",
   "mimetype": "text/x-python",
   "name": "python",
   "nbconvert_exporter": "python",
   "pygments_lexer": "ipython3",
   "version": "3.10.9"
  }
 },
 "nbformat": 4,
 "nbformat_minor": 5
}
